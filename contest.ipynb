{
  "nbformat": 4,
  "nbformat_minor": 0,
  "metadata": {
    "colab": {
      "name": "contest.ipynb",
      "provenance": [],
      "collapsed_sections": [],
      "authorship_tag": "ABX9TyNyFryGIx2+MiPafrHX2llc",
      "include_colab_link": true
    },
    "kernelspec": {
      "name": "python3",
      "display_name": "Python 3"
    }
  },
  "cells": [
    {
      "cell_type": "markdown",
      "metadata": {
        "id": "view-in-github",
        "colab_type": "text"
      },
      "source": [
        "<a href=\"https://colab.research.google.com/github/FazleRabbbiferdaus172/Contest/blob/master/contest.ipynb\" target=\"_parent\"><img src=\"https://colab.research.google.com/assets/colab-badge.svg\" alt=\"Open In Colab\"/></a>"
      ]
    },
    {
      "cell_type": "code",
      "metadata": {
        "id": "2s3qGd4kjTUx",
        "colab_type": "code",
        "colab": {}
      },
      "source": [
        "\n",
        "t = int(input())\n",
        "while(t):\n",
        "    n,x = [int(a) for a in input().split()]\n",
        "    l = [int(b) for b in input().split()]\n",
        "    v = 0\n",
        "    i =1\n",
        "    while True:\n",
        "        if(not i in l):\n",
        "            l.append(i)\n",
        "            v+=1\n",
        "            if(v==x):\n",
        "                break\n",
        "        i += 1\n",
        "    i = 0\n",
        "    l = set(l)\n",
        "    m = max(l)+1\n",
        "    for j in range(1,m):\n",
        "        if(j in l):\n",
        "            i += 1\n",
        "        else:\n",
        "            break\n",
        "    print(i)\n",
        "    t -=1\n"
      ],
      "execution_count": 0,
      "outputs": []
    },
    {
      "cell_type": "code",
      "metadata": {
        "id": "E55tpp_9ToHb",
        "colab_type": "code",
        "colab": {}
      },
      "source": [
        "x = int(input())\n",
        "\n",
        "ls = [int(a) for a in input().split()]\n",
        "v = sum(ls)\n",
        "c = 0\n",
        "for i in range(x):\n",
        "    s = 0\n",
        "    for j in range(i,x):\n",
        "        s += ls[j]\n",
        "        if(s != 0):\n",
        "            c += 1\n",
        "f = 2**x -2\n",
        "if(c != f and v != 0):\n",
        "    c -= 1\n",
        "\n",
        "print(c)\n"
      ],
      "execution_count": 0,
      "outputs": []
    },
    {
      "cell_type": "code",
      "metadata": {
        "id": "bQnEua7ig2_n",
        "colab_type": "code",
        "colab": {}
      },
      "source": [
        "l = [1,2,2]\n",
        "print(sum(l))"
      ],
      "execution_count": 0,
      "outputs": []
    },
    {
      "cell_type": "code",
      "metadata": {
        "id": "NeTRtkZg_1Dm",
        "colab_type": "code",
        "outputId": "86da16b8-6fa2-43ca-c449-8741bac878d1",
        "colab": {
          "base_uri": "https://localhost:8080/",
          "height": 102
        }
      },
      "source": [
        "for _ in \" \"*int(input()):\n",
        "\ta,b=map(int,input().split())\n",
        "\tprint(\"WB\"+(\"B\")*(b-2));a-=1\n",
        "\tfor i in range(a):\n",
        "\t\tprint(\"B\"*b)"
      ],
      "execution_count": 0,
      "outputs": [
        {
          "output_type": "stream",
          "text": [
            "1\n",
            "3 3\n",
            "WBB\n",
            "BBB\n",
            "BBB\n"
          ],
          "name": "stdout"
        }
      ]
    },
    {
      "cell_type": "code",
      "metadata": {
        "id": "2Gasfk3LUL6_",
        "colab_type": "code",
        "outputId": "02a90188-293f-452d-f2a1-3c0e76408bdf",
        "colab": {
          "base_uri": "https://localhost:8080/",
          "height": 85
        }
      },
      "source": [
        "a = int(input())\n",
        "s = input()\n",
        "ac=0\n",
        "s = list(s)\n",
        "for i in range(0,a,2):\n",
        "    if s[i] == s[i+1]:\n",
        "        ac += 1\n",
        "        s[i] = 'a'\n",
        "        s[i+1] = 'b'\n",
        "print(ac)\n",
        "print(\"\".join(s))"
      ],
      "execution_count": 0,
      "outputs": [
        {
          "output_type": "stream",
          "text": [
            "6\n",
            "bbbbba\n",
            "2\n",
            "ababba\n"
          ],
          "name": "stdout"
        }
      ]
    },
    {
      "cell_type": "code",
      "metadata": {
        "id": "MyoHg0S6cs0L",
        "colab_type": "code",
        "outputId": "88c7fe7e-a09c-4f27-97c1-d7cdf41a3f7a",
        "colab": {
          "base_uri": "https://localhost:8080/",
          "height": 85
        }
      },
      "source": [
        "nc = int(input())\n",
        "cl = [int(x) for x in input().split()]\n",
        "fl = []\n",
        "cost= 0\n",
        "j = 0\n",
        "for i in sorted(cl,reverse=True):\n",
        "    cost += j*i + 1\n",
        "    fl.append(cl.index(i)+1)\n",
        "    cl[cl.index(i)]= float('inf')\n",
        "    j += 1\n",
        "\n",
        "print(cost)\n",
        "print(*fl)\n",
        "\n"
      ],
      "execution_count": 0,
      "outputs": [
        {
          "output_type": "stream",
          "text": [
            "3\n",
            "20 10 20\n",
            "43\n",
            "1 3 2\n"
          ],
          "name": "stdout"
        }
      ]
    },
    {
      "cell_type": "code",
      "metadata": {
        "id": "lB6Gve00Oi8r",
        "colab_type": "code",
        "outputId": "84bf5c2b-9075-4f19-e00b-796794c66bd5",
        "colab": {
          "base_uri": "https://localhost:8080/",
          "height": 187
        }
      },
      "source": [
        "import math\n",
        "q = int(input())\n",
        "while(q):\n",
        "    a = int(input())\n",
        "    al = [int(x) for x in input().split()]\n",
        "    result = math.ceil(sum(al)/a)\n",
        "    print(result)\n",
        "    q -= 1"
      ],
      "execution_count": 0,
      "outputs": [
        {
          "output_type": "stream",
          "text": [
            "3\n",
            "5\n",
            "1 2 3 4 5\n",
            "3\n",
            "3\n",
            "1 2 2\n",
            "2\n",
            "4\n",
            "1 1 1 1\n",
            "1\n"
          ],
          "name": "stdout"
        }
      ]
    },
    {
      "cell_type": "code",
      "metadata": {
        "id": "mb3ifchtdN1L",
        "colab_type": "code",
        "outputId": "a46384ae-25c0-4d11-e484-ea2d5a8b85ee",
        "colab": {
          "base_uri": "https://localhost:8080/",
          "height": 85
        }
      },
      "source": [
        "n,k = [int(x) for x in input().split()]\n",
        "cl = [int(x) for x in input().split()]\n",
        "queue = []\n",
        "\n",
        "for i in a:\n",
        "    if i not in queue:\n",
        "        queue=[i]+queue\n",
        "        queue=queue[:k]\n",
        "print(len(queue))\n",
        "print(*queue)"
      ],
      "execution_count": 0,
      "outputs": [
        {
          "output_type": "stream",
          "text": [
            "7 2\n",
            "1 2 3 2 1 3 2\n",
            "2\n",
            "2 1\n"
          ],
          "name": "stdout"
        }
      ]
    },
    {
      "cell_type": "code",
      "metadata": {
        "id": "WJKbFHNDg4WQ",
        "colab_type": "code",
        "outputId": "b1d66778-29f1-4fac-d9cd-3c4dc2caf678",
        "colab": {
          "base_uri": "https://localhost:8080/",
          "height": 527
        }
      },
      "source": [
        "t = int(input())\n",
        " \n",
        "while(t):\n",
        "    n = int(input())\n",
        "    p = [0]\n",
        "    c = [0]\n",
        "    l = []\n",
        "    flag = 1\n",
        "    for i in range(1,n+1):\n",
        "        l = [int(x) for x in input().split()]\n",
        "        p.append(l[0])\n",
        "        c.append(l[1])\n",
        "        if 0 > min(p[i]-p[i-1],c[i]-c[i-1],p[i]-p[i-1]-c[i]+c[i-1]):\n",
        "            flag = 0\n",
        "       \n",
        "    if(flag == 1):    \n",
        "        print(\"YES\")\n",
        "    else:\n",
        "        print(\"NO\")\n",
        "    t-=1"
      ],
      "execution_count": 0,
      "outputs": [
        {
          "output_type": "stream",
          "text": [
            "6\n",
            "3\n",
            "0 0\n",
            "1 1\n",
            "1 2\n",
            "NO\n",
            "2\n",
            "1 0\n",
            "1000 3\n",
            "YES\n",
            "4\n",
            "10 1\n",
            "15 2\n",
            "10 2\n",
            "15 2\n",
            "NO\n",
            "1\n",
            "765 432\n",
            "YES\n",
            "2\n",
            "4 4\n",
            "4 3\n",
            "NO\n",
            "5\n",
            "0 0\n",
            "1 0\n",
            "1 0\n",
            "1 0\n",
            "1 0\n",
            "YES\n"
          ],
          "name": "stdout"
        }
      ]
    },
    {
      "cell_type": "code",
      "metadata": {
        "id": "Yy8QzPTljFaP",
        "colab_type": "code",
        "colab": {}
      },
      "source": [
        "\n",
        "t = int(input())\n",
        " \n",
        "while(t):\n",
        "    n = int(input())\n",
        "    p = [0]\n",
        "    c = [0]\n",
        "    l = []\n",
        "    flag = 1\n",
        "    for i in range(1,n+1):\n",
        "        l = [int(x) for x in input().split()]\n",
        "        p.append(l[0])\n",
        "        c.append(l[1])\n",
        "        if(c[i]>p[i]):\n",
        "            flag = 0\n",
        "        elif(c[i] < c[i-1] or p[i]<p[i-1]):\n",
        "            flag = 0\n",
        "        elif 0 > p[i]-p[i-1]-c[i-1]+c[i]:\n",
        "            flag = 0\n",
        "    if(flag == 1):    \n",
        "        print(\"YES\")\n",
        "    else:\n",
        "        print(\"NO\")\n",
        "    t-=1"
      ],
      "execution_count": 0,
      "outputs": []
    },
    {
      "cell_type": "code",
      "metadata": {
        "id": "DDU1Npitq_1p",
        "colab_type": "code",
        "outputId": "7b62faab-0753-49ac-8dd0-0186e15e0ff9",
        "colab": {
          "base_uri": "https://localhost:8080/",
          "height": 238
        }
      },
      "source": [
        "t = int(input())\n",
        "\n",
        "while(t):\n",
        "    n,x = [int(x) for x in input().split()]\n",
        "    a = [int(x) for x in input().split()]\n",
        "    a.sort()\n",
        "    s = sum(a)\n",
        "    an = n\n",
        "    for i in range(n):\n",
        "        if(x<=s/an):\n",
        "            break\n",
        "        s -= a[i]\n",
        "        an -= 1\n",
        "    print(an)\n",
        "    t -= 1"
      ],
      "execution_count": 0,
      "outputs": [
        {
          "output_type": "stream",
          "text": [
            "4\n",
            "4 3\n",
            "5 1 2 1\n",
            "2\n",
            "4 10\n",
            "11 9 11 9\n",
            "4\n",
            "2 5\n",
            "4 3\n",
            "0\n",
            "3 7\n",
            "9 4 9\n",
            "3\n"
          ],
          "name": "stdout"
        }
      ]
    },
    {
      "cell_type": "code",
      "metadata": {
        "id": "6LNVjCzLxiUA",
        "colab_type": "code",
        "outputId": "b70609ce-304b-4305-872a-2f6c34cb1bc1",
        "colab": {
          "base_uri": "https://localhost:8080/",
          "height": 102
        }
      },
      "source": [
        "t = int(input())\n",
        "\n",
        "for z in range(t):\n",
        "    x = int(input())\n",
        "    print(x)"
      ],
      "execution_count": 0,
      "outputs": [
        {
          "output_type": "stream",
          "text": [
            "2\n",
            "2\n",
            "2\n",
            "1\n",
            "1\n"
          ],
          "name": "stdout"
        }
      ]
    },
    {
      "cell_type": "code",
      "metadata": {
        "id": "7ZSBwdo-z5P6",
        "colab_type": "code",
        "colab": {}
      },
      "source": [
        "t = int(input())\n",
        "\n",
        "for z in range(t):\n",
        "    n = int(input())\n",
        "    p = [int(x) for x in input()split()]\n",
        "    pn = []\n",
        "    nn = []\n",
        "    zn = []\n",
        "    cn = []\n",
        "    cnn = []\n",
        "    for i in p:\n",
        "        if i > 0:\n",
        "            pn.append(i)\n",
        "        elif i<0:\n",
        "            nn.append(i)\n",
        "        else:\n",
        "            zn.append(i)\n",
        "\n",
        "    for i in pn:\n",
        "        c=pn.count(i)\n",
        "        l = c\n",
        "        if(c>2):\n",
        "            while(c):\n",
        "                cn.append(i)\n",
        "                c -= 1\n",
        "            while(a):\n",
        "                pn.pop(pn.index(i))\n",
        "                a -= 1\n",
        "\n",
        "    for i in nn:\n",
        "        c=nn.count(i)\n",
        "        l = c\n",
        "        if(c>2):\n",
        "            while(c):\n",
        "                cnn.append(i)\n",
        "                c -= 1\n",
        "            while(a):\n",
        "                nn.pop(nn.index(i))\n",
        "                a -= 1\n",
        "\n",
        "    nn.sort()\n",
        "    cn.sort()\n",
        "    cnn.sort()\n",
        "    pn.sort()\n",
        "    zn.sort()\n",
        "\n",
        "    \n",
        "\n",
        "\n",
        "\n",
        "\n",
        "\n",
        "    \n"
      ],
      "execution_count": 0,
      "outputs": []
    },
    {
      "cell_type": "code",
      "metadata": {
        "id": "bD3S9lfs18b-",
        "colab_type": "code",
        "outputId": "3e1707b5-021d-4c69-afbf-8f744af43683",
        "colab": {
          "base_uri": "https://localhost:8080/",
          "height": 238
        }
      },
      "source": [
        "import math\n",
        "t = int(input())\n",
        "\n",
        "for i in range(t):\n",
        "    n = int(input())\n",
        "    result = math.ceil(n/2)-1\n",
        "    print(result)"
      ],
      "execution_count": 0,
      "outputs": [
        {
          "output_type": "stream",
          "text": [
            "6\n",
            "7\n",
            "3\n",
            "1\n",
            "0\n",
            "2\n",
            "0\n",
            "3\n",
            "1\n",
            "2000000000\n",
            "999999999\n",
            "763243547\n",
            "381621773\n"
          ],
          "name": "stdout"
        }
      ]
    },
    {
      "cell_type": "code",
      "metadata": {
        "id": "Np7F-zvZAHGW",
        "colab_type": "code",
        "outputId": "635a8485-eaa7-41f4-8cb6-d59a20198831",
        "colab": {
          "base_uri": "https://localhost:8080/",
          "height": 68
        }
      },
      "source": [
        "import string\n",
        "t = int(input())\n",
        "al = list(string.ascii_lowercase)\n",
        "for i in range(t):\n",
        "    result = []\n",
        "    n,a,b = [int(x) for x in input().split()]\n",
        "    b = b-1\n",
        "    for i in range(a):\n",
        "        \n",
        "        if(b>0):\n",
        "            result.append(al[b])\n",
        "            b -= 1\n",
        "        \n",
        "        else:\n",
        "            result.append(al[b])\n",
        "\n",
        "    j = n%a\n",
        "    k = n//a\n",
        "    result = result*k + result[:j]\n",
        "    print(\"\".join(result))\n",
        "\n",
        "\n",
        "    "
      ],
      "execution_count": 0,
      "outputs": [
        {
          "output_type": "stream",
          "text": [
            "1\n",
            "30 27 26\n",
            "zyxwvutsrqponmlkjihgfedcbaazyx\n"
          ],
          "name": "stdout"
        }
      ]
    },
    {
      "cell_type": "code",
      "metadata": {
        "id": "lxTc2ZJ-JgML",
        "colab_type": "code",
        "outputId": "78deba6f-e475-4d37-a71c-93ee3397bb25",
        "colab": {
          "base_uri": "https://localhost:8080/",
          "height": 85
        }
      },
      "source": [
        "t = int(input())\n",
        "\n",
        "for i in range(t):\n",
        "    n = int(input())\n",
        "    sl = [int(x) for x in input().split()]\n",
        "    hl = set(sl)\n",
        "    for i in hl:\n",
        "        sl.pop(sl.index(i))\n",
        "    if n == 1:\n",
        "        print('0')\n",
        "    elif not sl:\n",
        "        print('1')\n",
        "    elif len(sl)==len(hl) and len(sl) == sl.count(sl[0]):\n",
        "        print(len(sl))\n",
        "    elif len(sl)<len(hl):\n",
        "        print(len(sl))\n",
        "    elif len(hl)<len(sl):\n",
        "        print(len(hl))\n",
        "    "
      ],
      "execution_count": 0,
      "outputs": [
        {
          "output_type": "stream",
          "text": [
            "1\n",
            "6\n",
            "1 1 2 2 3 3\n",
            "3\n"
          ],
          "name": "stdout"
        }
      ]
    },
    {
      "cell_type": "code",
      "metadata": {
        "id": "GcrJDAT2TCR2",
        "colab_type": "code",
        "outputId": "c08cb56d-fb75-4617-8dd5-45f66db5f9e7",
        "colab": {
          "base_uri": "https://localhost:8080/",
          "height": 68
        }
      },
      "source": [
        "for _ in range(int(input())):\n",
        "    n = int(input())\n",
        "    a = n//2\n",
        "    if(a%2==1):\n",
        "        print(\"NO\")\n",
        "    else:\n",
        "        res = []\n",
        "        for i in range(1,a+1):\n",
        "            res.append(i*2)\n",
        "        for i in range(1,a):\n",
        "            res.append(2*i-1)\n",
        "\n",
        "        s = sum(res[:a])-sum(res[a:])\n",
        "        res.append(s)\n",
        "        print(\"YES\")\n",
        "        print(*res)\n"
      ],
      "execution_count": 1,
      "outputs": [
        {
          "output_type": "stream",
          "text": [
            "1\n",
            "2\n",
            "NO\n"
          ],
          "name": "stdout"
        }
      ]
    }
  ]
}